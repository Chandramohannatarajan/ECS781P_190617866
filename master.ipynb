{
 "cells": [
  {
   "cell_type": "code",
   "execution_count": null,
   "metadata": {
    "scrolled": true
   },
   "outputs": [],
   "source": [
    "from flask import Flask, jsonify, json,g,request\n",
    "import csv,json\n",
    "\n",
    "csvFilePath= \"world_universities_and_domains.csv\"  \n",
    "jsonFilePath= \"world_universities_and_domainss.json\"\n",
    "\n",
    "data={}\n",
    "with open(csvFilePath) as csvFile:\n",
    "    csvReader =csv.DictReader(csvFile)\n",
    "    for csvRow in csvReader:\n",
    "        web_pages=csvRow[\"web_pages\"]\n",
    "        data[web_pages] = csvRow\n",
    "        \n",
    "with open(jsonFilePath,\"w\") as jsonFile:\n",
    "    jsonFile.write(json.dumps(data, indent=4))\n",
    "\n",
    "with open('world_universities_and_domains.json',encoding='utf-8') as f: \n",
    "    all_records = json.load(f)\n",
    "\n",
    "app = Flask(__name__)\n",
    "\n",
    "@app.route('/records', methods=['GET']) \n",
    "def get_all_records(): \n",
    "    return jsonify(all_records), 200\n",
    "\n",
    "#Retrieve Web pages of all universities\n",
    "@app.route('/records/webpages', methods=['GET']) \n",
    "def get_webpages_uni():\n",
    "    name = [\"NAME:{0} WEB_PAGES:{1}\".format(x['name'], x['web_pages']) for x in all_records ]\n",
    "    return jsonify(name), 200   \n",
    "    \n",
    "#Retrieve universities of all countries\n",
    "@app.route('/records/country', methods=['GET']) \n",
    "def get_country_uni():\n",
    "    name = [\"COUNTRY:{0} \\t\\t\\t NAME:{1}\".format(x['country'], x['name']) for x in all_records ]\n",
    "    return jsonify(name), 200\n",
    "\n",
    "#Retrieve universities of a required country\n",
    "@app.route('/records/<countryname>', methods=['GET']) \n",
    "def get_uni_by_country(countryname): \n",
    "    name = [x['name'] for x in all_records if x['country'] == countryname ]\n",
    "    if len(name)==0: \n",
    "        return jsonify({'error':'Country name not found!'}), 404\n",
    "    else:\n",
    "        return jsonify(name), 200\n",
    "    \n",
    "@app.route('/records', methods=['POST']) \n",
    "def create_a_record(): \n",
    "    if not request.json or not 'name' in request.json: \n",
    "        return jsonify({'error':'the new record needs to have a University name'}), 400 \n",
    "    new_record = {\"alpha_two_code\":request.json.get(\"\"),\"country\": request.json.get(\"\"),\"domains\":request.json.get(\"\"),\"name\": request.json.get(\"\"),\"state-province\":request.json.get(\"\"),\"web_pages\":request.json.get(\"\")} \n",
    "    all_records.append(new_record) \n",
    "    return jsonify({'message': 'created: /records/{}'}), 201\n",
    "    #return jsonify({'message': 'created: /records/{}'.format(new_record['name'])}), 201\n",
    "    \n",
    "@app.route('/records/<universityname>', methods=['DELETE']) \n",
    "def delete_a_university(universityname): \n",
    "    matching_records = [x for x in all_records if x['name'] == universityname] \n",
    "    if len(matching_records)==0: \n",
    "        return jsonify({'error':'university name not found!'}), 404 \n",
    "    all_records.remove(matching_records[0]) \n",
    "    return jsonify({'success': True})\n",
    "\n",
    "\n",
    "if __name__ == '__main__': \n",
    "    app.run()\n"
   ]
  },
  {
   "cell_type": "code",
   "execution_count": null,
   "metadata": {},
   "outputs": [],
   "source": []
  },
  {
   "cell_type": "code",
   "execution_count": null,
   "metadata": {},
   "outputs": [],
   "source": []
  }
 ],
 "metadata": {
  "kernelspec": {
   "display_name": "Python 3",
   "language": "python",
   "name": "python3"
  },
  "language_info": {
   "codemirror_mode": {
    "name": "ipython",
    "version": 3
   },
   "file_extension": ".py",
   "mimetype": "text/x-python",
   "name": "python",
   "nbconvert_exporter": "python",
   "pygments_lexer": "ipython3",
   "version": "3.7.7"
  }
 },
 "nbformat": 4,
 "nbformat_minor": 4
}
